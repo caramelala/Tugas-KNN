{
  "metadata": {
    "kernelspec": {
      "name": "python",
      "display_name": "Python (Pyodide)",
      "language": "python"
    },
    "language_info": {
      "codemirror_mode": {
        "name": "python",
        "version": 3
      },
      "file_extension": ".py",
      "mimetype": "text/x-python",
      "name": "python",
      "nbconvert_exporter": "python",
      "pygments_lexer": "ipython3",
      "version": "3.8"
    }
  },
  "nbformat_minor": 4,
  "nbformat": 4,
  "cells": [
    {
      "cell_type": "code",
      "source": "import pandas as pd\n\nsensus = {\n    'tinggi': [158, 170, 182, 175, 157, 155, 163, 141, 167], \n    'berat': [50, 64, 79, 44, 59, 63, 56, 60, 53],\n    'jk': [\n        'pria', 'pria', 'pria', 'pria', 'wanita', 'wanita', 'wanita', 'wanita', \n        'wanita'\n    ]\n}\n\nsensus_df =  pd.DataFrame(sensus)\nsensus_df",
      "metadata": {
        "trusted": true
      },
      "outputs": [
        {
          "execution_count": 7,
          "output_type": "execute_result",
          "data": {
            "text/plain": "   tinggi  berat      jk\n0     158     50    pria\n1     170     64    pria\n2     182     79    pria\n3     175     44    pria\n4     157     59  wanita\n5     155     63  wanita\n6     163     56  wanita\n7     141     60  wanita\n8     167     53  wanita",
            "text/html": "<div>\n<style scoped>\n    .dataframe tbody tr th:only-of-type {\n        vertical-align: middle;\n    }\n\n    .dataframe tbody tr th {\n        vertical-align: top;\n    }\n\n    .dataframe thead th {\n        text-align: right;\n    }\n</style>\n<table border=\"1\" class=\"dataframe\">\n  <thead>\n    <tr style=\"text-align: right;\">\n      <th></th>\n      <th>tinggi</th>\n      <th>berat</th>\n      <th>jk</th>\n    </tr>\n  </thead>\n  <tbody>\n    <tr>\n      <th>0</th>\n      <td>158</td>\n      <td>50</td>\n      <td>pria</td>\n    </tr>\n    <tr>\n      <th>1</th>\n      <td>170</td>\n      <td>64</td>\n      <td>pria</td>\n    </tr>\n    <tr>\n      <th>2</th>\n      <td>182</td>\n      <td>79</td>\n      <td>pria</td>\n    </tr>\n    <tr>\n      <th>3</th>\n      <td>175</td>\n      <td>44</td>\n      <td>pria</td>\n    </tr>\n    <tr>\n      <th>4</th>\n      <td>157</td>\n      <td>59</td>\n      <td>wanita</td>\n    </tr>\n    <tr>\n      <th>5</th>\n      <td>155</td>\n      <td>63</td>\n      <td>wanita</td>\n    </tr>\n    <tr>\n      <th>6</th>\n      <td>163</td>\n      <td>56</td>\n      <td>wanita</td>\n    </tr>\n    <tr>\n      <th>7</th>\n      <td>141</td>\n      <td>60</td>\n      <td>wanita</td>\n    </tr>\n    <tr>\n      <th>8</th>\n      <td>167</td>\n      <td>53</td>\n      <td>wanita</td>\n    </tr>\n  </tbody>\n</table>\n</div>"
          },
          "metadata": {}
        }
      ],
      "execution_count": 7
    },
    {
      "cell_type": "code",
      "source": "#Visualisasi Data\nimport matploblib.pyplot as plt\n\nfig, ax = plt.subplots()\nfor jk, d in sensus_df.groupby('jk'):\n    ax.scatter(d['tingi'], d['berat'],  label=jk)\n\nplt.legend(loc='upper left')\nplt.title('Sebaran Data Tinggi Badan, Berat Badan, dan Jenis Kelamin')\nplt.xlabel('Tinggi Badan (cm)')\nplt.ylabel('Berat Badan (kg)')\nplt.grid(True)\nplt.show()",
      "metadata": {
        "trusted": true
      },
      "outputs": [],
      "execution_count": null
    },
    {
      "cell_type": "code",
      "source": "#Processing Dataset\nimport numpy as np\n\nx_train = np.array(sensus_df[['tinggi', 'berat']])\ny_train = np.array(sensus_df['jk'])\n\nprint(f'x_train:\\n{x_train}\\n')\nprint(f'y_train: {y_train}')",
      "metadata": {
        "trusted": true
      },
      "outputs": [],
      "execution_count": null
    },
    {
      "cell_type": "markdown",
      "source": "from sklearn.preprocessing import LabelBinarizer\n\nlb = LabelBinarizer()\ny_train = lb.fit_transform(y_train)\nprint(f'y_train:\\n{y_train'\n",
      "metadata": {}
    },
    {
      "cell_type": "code",
      "source": "y_train = y_train.flatten()\nprint(f'y_train: {y_train}'}",
      "metadata": {
        "trusted": true
      },
      "outputs": [],
      "execution_count": null
    },
    {
      "cell_type": "code",
      "source": "#Training KNN Classification Model\nfrom sklearn.neighbors import KNeighborsClassifier\n\nK = 3\nmodel = KNeighborsClssifier(n_neighbors=K)\nmodel.fit(x_train, y_train)",
      "metadata": {
        "trusted": true
      },
      "outputs": [],
      "execution_count": null
    },
    {
      "cell_type": "code",
      "source": "#Prediksi Jenis Kelamin\ntinggi_badan = 157\nberat_badan = 51\nx_new = np.array([tinggi_badan, berat_badan]).reshape(1, -1)\nx_new",
      "metadata": {
        "trusted": true
      },
      "outputs": [],
      "execution_count": null
    },
    {
      "cell_type": "code",
      "source": "y_new = model.predict(x_new)\ny_new",
      "metadata": {
        "trusted": true
      },
      "outputs": [],
      "execution_count": null
    },
    {
      "cell_type": "code",
      "source": "lb.inverse_transform(y_new)",
      "metadata": {
        "trusted": true
      },
      "outputs": [],
      "execution_count": null
    },
    {
      "cell_type": "code",
      "source": "#Visualisasi Nearest Neighbours\n\nimport matploblib.pyplot as plt\n\nfig, ax = plt.subplots()\nfor jk, d in sensus_df.groupby('jk'):\n    ax.scatter(d['tingi'], d['berat'],  label=jk)\n    \nplt.scatter(tinggi_badan,\n            berat_badan,\n            marker='s',\n            color='red',\n            label='misterius')\n\nplt.legend(loc='upper left')\nplt.title('Sebaran Data Tinggi Badan, Berat Badan, dan Jenis Kelamin')\nplt.xlabel('Tinggi Badan (cm)')\nplt.ylabel('Berat Badan (kg)')\nplt.grid(True)\nplt.show()\n                \n",
      "metadata": {
        "trusted": true
      },
      "outputs": [],
      "execution_count": null
    },
    {
      "cell_type": "code",
      "source": "#Kalkulasi Distance (Euclidean Ditance)\n\nmisterius = np.array([tinggi_badan, berat_badan])\nmisterius",
      "metadata": {
        "trusted": true
      },
      "outputs": [],
      "execution_count": null
    },
    {
      "cell_type": "code",
      "source": "K_train",
      "metadata": {
        "trusted": true
      },
      "outputs": [],
      "execution_count": null
    },
    {
      "cell_type": "code",
      "source": "from scipy.spatial.distance import euclidean\n\ndata_jarak = [euclidean(misterius, d) for d in x_train]\ndata_jarak",
      "metadata": {
        "trusted": true
      },
      "outputs": [],
      "execution_count": null
    },
    {
      "cell_type": "code",
      "source": "sensus_df['jarak'] = data_jarak\nsensus_df.sort_values(['jarak'])",
      "metadata": {
        "trusted": true
      },
      "outputs": [],
      "execution_count": null
    },
    {
      "cell_type": "code",
      "source": "#Testing Set\n\nx_test = np.array([[155, 51], [170, 58], [152, 43], [182, 63]])\ny_test = lb.transform(np.array(['pria', 'pria', 'wanita', 'wanita'])).flatten()\n\nprint(f'x_test:\\n{x_test}\\n')\nprint(f'y_test:\\n{y_test}')\n\nx_test:\n[[150 50]\n [170 70]\n [160 60]\n [180 80]]\n\ny_test:\n0 0 1 1",
      "metadata": {
        "trusted": true
      },
      "outputs": [],
      "execution_count": null
    },
    {
      "cell_type": "code",
      "source": "#Prediksi terhadap testing set\n\ny_pred = model.predict(x_test)\ny_pred",
      "metadata": {
        "trusted": true
      },
      "outputs": [],
      "execution_count": null
    },
    {
      "cell_type": "code",
      "source": "#Accuracy\n\nfrom sklearn.metrics import accuracy_score\n\nacc = accuracy_score(y_test, y_pred)\n\nprint(f'Accuracy: {acc}')",
      "metadata": {
        "trusted": true
      },
      "outputs": [],
      "execution_count": null
    },
    {
      "cell_type": "code",
      "source": "#Precission\n\nfrom sklearn.metrics import precision_score\n\nprec = precision_score(y_test, y_pred)\n\nprint(f'Precision: {prec}')",
      "metadata": {
        "trusted": true
      },
      "outputs": [],
      "execution_count": null
    },
    {
      "cell_type": "code",
      "source": "#Recall\n\nfrom sklearn.metrics import recall_score\n\nrec = recall_score(y_test, y_pred)\n\nprint(f'Recall: {rec}')",
      "metadata": {
        "trusted": true
      },
      "outputs": [],
      "execution_count": null
    },
    {
      "cell_type": "code",
      "source": "#Classification Report\n\nfrom sklearn.metrics import classification_report\n\ncls_report = classification_report(y_test, y_pred)\n\nprint(f'Classification Report: {cls_report}')",
      "metadata": {
        "trusted": true
      },
      "outputs": [],
      "execution_count": null
    },
    {
      "cell_type": "code",
      "source": "#Matthews Correlation Coefficient(MCC)\n\nfrom sklearn.metrics import matthews_corrcoef\n\nmcc = matthews_corrcoef(y_test, y_pred)\n\nprint(f'MCC: {mcc}')\n\n",
      "metadata": {
        "trusted": true
      },
      "outputs": [],
      "execution_count": null
    }
  ]
}